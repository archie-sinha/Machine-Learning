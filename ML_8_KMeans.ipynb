{
  "nbformat": 4,
  "nbformat_minor": 0,
  "metadata": {
    "colab": {
      "provenance": [],
      "authorship_tag": "ABX9TyNEJN+6gRZUxSbmYeXQRVCQ",
      "include_colab_link": true
    },
    "kernelspec": {
      "name": "python3",
      "display_name": "Python 3"
    },
    "language_info": {
      "name": "python"
    }
  },
  "cells": [
    {
      "cell_type": "markdown",
      "metadata": {
        "id": "view-in-github",
        "colab_type": "text"
      },
      "source": [
        "<a href=\"https://colab.research.google.com/github/archie-sinha/Machine-Learning/blob/main/ML_8_KMeans.ipynb\" target=\"_parent\"><img src=\"https://colab.research.google.com/assets/colab-badge.svg\" alt=\"Open In Colab\"/></a>"
      ]
    },
    {
      "cell_type": "markdown",
      "source": [
        "#**Archisha Sinha**\n",
        "##Course: Machine Learning\n",
        "##Title: K -  Means"
      ],
      "metadata": {
        "id": "-8vcNbHH9-lq"
      }
    },
    {
      "cell_type": "markdown",
      "source": [
        "##Implementation of K means"
      ],
      "metadata": {
        "id": "Tosj6gq2-Ikx"
      }
    },
    {
      "cell_type": "code",
      "source": [
        "import numpy as np\n",
        "import pandas as pd\n",
        "import seaborn as sns\n",
        "import matplotlib.pyplot as plt\n",
        "import math"
      ],
      "metadata": {
        "id": "_3zKa7NZAP-A"
      },
      "execution_count": 1,
      "outputs": []
    },
    {
      "cell_type": "code",
      "execution_count": 2,
      "metadata": {
        "id": "sjVWACtl99bV"
      },
      "outputs": [],
      "source": [
        "x=[1,2,4,5]\n",
        "y=[1,1,3,4]"
      ]
    },
    {
      "cell_type": "code",
      "source": [
        "# Taking value of k from the user\n",
        "k = int(input(\"Enter the number of k turns: \"))"
      ],
      "metadata": {
        "colab": {
          "base_uri": "https://localhost:8080/"
        },
        "id": "w8JrjTxj-Yzf",
        "outputId": "2282c086-ac68-41f2-aa65-f417b0eab888"
      },
      "execution_count": 12,
      "outputs": [
        {
          "name": "stdout",
          "output_type": "stream",
          "text": [
            "Enter the number of k turns: 2\n"
          ]
        }
      ]
    },
    {
      "cell_type": "code",
      "source": [
        "#Taking initial centroid points from the user\n",
        "\n",
        "a= int(input(\"Enter x for c1: \"))\n",
        "b= int(input(\"Enter y for c1: \"))\n",
        "c1= (a,b)\n",
        "\n",
        "print (c1)\n",
        "c= int(input(\"Enter x for c2: \"))\n",
        "d= int(input(\"Enter y for c2: \"))\n",
        "c2= (c,d)\n",
        "print (c2)"
      ],
      "metadata": {
        "colab": {
          "base_uri": "https://localhost:8080/"
        },
        "id": "c3KHAV-9-hoD",
        "outputId": "c9e03a9d-8d26-492c-af6d-b0942ca48f4c"
      },
      "execution_count": 14,
      "outputs": [
        {
          "output_type": "stream",
          "name": "stdout",
          "text": [
            "Enter x for c1: 1\n",
            "Enter y for c1: 1\n",
            "(1, 1)\n",
            "Enter x for c2: 2\n",
            "Enter y for c2: 1\n",
            "(2, 1)\n"
          ]
        }
      ]
    },
    {
      "cell_type": "code",
      "source": [
        "def implement_Edistance(test_x, test_y):\n",
        "  dist=[]\n",
        "  for i,j in zip(x, y):\n",
        "      a= (test_x-i)**2\n",
        "      b= (test_y-j)**2\n",
        "      distance= math.sqrt(a+b)\n",
        "      dist.append(distance)\n",
        "  return (dist)"
      ],
      "metadata": {
        "id": "yvHuIzED_aGN"
      },
      "execution_count": 15,
      "outputs": []
    },
    {
      "cell_type": "code",
      "source": [
        "P= (implement_Edistance(a,b))\n",
        "print(P)"
      ],
      "metadata": {
        "colab": {
          "base_uri": "https://localhost:8080/"
        },
        "id": "u2fBcRK9B2x9",
        "outputId": "c4d60a9e-36ad-47f3-d1ba-8685e02ed974"
      },
      "execution_count": 16,
      "outputs": [
        {
          "output_type": "stream",
          "name": "stdout",
          "text": [
            "[0.0, 1.0, 3.605551275463989, 5.0]\n"
          ]
        }
      ]
    },
    {
      "cell_type": "code",
      "source": [
        "Q=(implement_Edistance(c,d))\n",
        "print(Q)"
      ],
      "metadata": {
        "colab": {
          "base_uri": "https://localhost:8080/"
        },
        "id": "zeWrM0b8TJBu",
        "outputId": "ea559b5d-6ff0-499a-863d-04a4ef8fe362"
      },
      "execution_count": 17,
      "outputs": [
        {
          "output_type": "stream",
          "name": "stdout",
          "text": [
            "[1.0, 0.0, 2.8284271247461903, 4.242640687119285]\n"
          ]
        }
      ]
    },
    {
      "cell_type": "code",
      "source": [
        "point=[]\n",
        "classes=[]\n",
        "for i in range(len(x)):\n",
        "  minimum= min(P[i],Q[i])\n",
        "  print(minimum)\n",
        "  point.append(minimum)\n",
        "  if(minimum==P[i]):\n",
        "    classes.append(\"C1\")\n",
        "  else:\n",
        "    classes.append(\"C2\")"
      ],
      "metadata": {
        "colab": {
          "base_uri": "https://localhost:8080/"
        },
        "id": "9QbkCvCHB4N8",
        "outputId": "cdfa86ce-ebdb-48ca-e62d-70f92633c435"
      },
      "execution_count": 18,
      "outputs": [
        {
          "output_type": "stream",
          "name": "stdout",
          "text": [
            "0.0\n",
            "0.0\n",
            "2.8284271247461903\n",
            "4.242640687119285\n"
          ]
        }
      ]
    },
    {
      "cell_type": "code",
      "source": [
        "import pandas as pd\n",
        "\n",
        "df = pd.DataFrame(list(zip(x, y, P, Q, point, classes)),\n",
        "               columns =['X', 'Y', 'Dist from C1', 'Dist from C2', \"Point\", \"Class\"])\n",
        "print (df)"
      ],
      "metadata": {
        "colab": {
          "base_uri": "https://localhost:8080/"
        },
        "id": "UYTiu8GkTO6z",
        "outputId": "245b0675-5a30-4e48-db5d-766368cf769b"
      },
      "execution_count": 19,
      "outputs": [
        {
          "output_type": "stream",
          "name": "stdout",
          "text": [
            "   X  Y  Dist from C1  Dist from C2     Point Class\n",
            "0  1  1      0.000000      1.000000  0.000000    C1\n",
            "1  2  1      1.000000      0.000000  0.000000    C2\n",
            "2  4  3      3.605551      2.828427  2.828427    C2\n",
            "3  5  4      5.000000      4.242641  4.242641    C2\n"
          ]
        }
      ]
    },
    {
      "cell_type": "code",
      "source": [
        "C1_count= classes.count(\"C1\")\n",
        "print (C1_count)\n",
        "C2_count= classes.count(\"C2\")\n",
        "print(C2_count)"
      ],
      "metadata": {
        "colab": {
          "base_uri": "https://localhost:8080/"
        },
        "id": "sGKfVKjGTRp2",
        "outputId": "152e6952-279f-4666-cd61-bff459b55278"
      },
      "execution_count": 20,
      "outputs": [
        {
          "output_type": "stream",
          "name": "stdout",
          "text": [
            "1\n",
            "3\n"
          ]
        }
      ]
    },
    {
      "cell_type": "code",
      "source": [
        "# Define a function to calculate Euclidean distance\n",
        "def calculate_distance(point, centroid):\n",
        "    return math.sqrt((point[0] - centroid[0]) ** 2 + (point[1] - centroid[1]) ** 2)"
      ],
      "metadata": {
        "id": "3vZEKuClThKF"
      },
      "execution_count": 22,
      "outputs": []
    },
    {
      "cell_type": "code",
      "source": [
        "while True:\n",
        "    # Assign points to the nearest centroid\n",
        "    new_clusters = [[] for _ in range(k)]\n",
        "    for i in range(len(x)):\n",
        "        distances = [calculate_distance((x[i], y[i]), centroid) for centroid in centroids]\n",
        "        min_distance_index = np.argmin(distances)\n",
        "        new_clusters[min_distance_index].append((x[i], y[i]))\n",
        "\n",
        "    # Update centroids\n",
        "    new_centroids = []\n",
        "    for cluster in new_clusters:\n",
        "        if len(cluster) > 0:\n",
        "            cluster_x = [point[0] for point in cluster]\n",
        "            cluster_y = [point[1] for point in cluster]\n",
        "            new_centroid = (np.mean(cluster_x), np.mean(cluster_y))\n",
        "            new_centroids.append(new_centroid)\n",
        "        else:\n",
        "            # If a cluster is empty, keep its centroid unchanged\n",
        "            new_centroids.append(centroids[len(new_centroids)])\n",
        "\n",
        "    # Check for convergence\n",
        "    if np.array_equal(centroids, new_centroids):\n",
        "        break\n",
        "\n",
        "    # Update centroids for the next iteration\n",
        "    centroids = new_centroids\n"
      ],
      "metadata": {
        "id": "TpeIVfLcTmd9"
      },
      "execution_count": 23,
      "outputs": []
    },
    {
      "cell_type": "code",
      "source": [
        "# Print final clusters\n",
        "print(\"Final Clusters:\")\n",
        "for i, cluster in enumerate(new_clusters):\n",
        "    print(\"Cluster\", i + 1, \":\", cluster)"
      ],
      "metadata": {
        "colab": {
          "base_uri": "https://localhost:8080/"
        },
        "id": "B7bupcfZTppZ",
        "outputId": "d8635a6d-42e8-4975-ae36-7d8b8cf156a1"
      },
      "execution_count": 24,
      "outputs": [
        {
          "output_type": "stream",
          "name": "stdout",
          "text": [
            "Final Clusters:\n",
            "Cluster 1 : [(1, 1), (2, 1)]\n",
            "Cluster 2 : [(4, 3), (5, 4)]\n"
          ]
        }
      ]
    },
    {
      "cell_type": "code",
      "source": [
        "# Plot the final clusters\n",
        "plt.figure(figsize=(8, 6))\n",
        "for i, cluster in enumerate(new_clusters):\n",
        "    cluster_x = [point[0] for point in cluster]\n",
        "    cluster_y = [point[1] for point in cluster]\n",
        "    plt.scatter(cluster_x, cluster_y, label=f'Cluster {i + 1}')\n",
        "\n",
        "plt.scatter([centroid[0] for centroid in centroids], [centroid[1] for centroid in centroids],\n",
        "            marker='x', color='black', label='Centroids')\n",
        "plt.xlabel('X')\n",
        "plt.ylabel('Y')\n",
        "plt.title('Final Clusters')\n",
        "plt.legend()\n",
        "plt.show()"
      ],
      "metadata": {
        "colab": {
          "base_uri": "https://localhost:8080/",
          "height": 564
        },
        "id": "hk5Y2LGdTtY4",
        "outputId": "a4e25264-0730-48d4-90e1-89e3b8b58400"
      },
      "execution_count": 27,
      "outputs": [
        {
          "output_type": "display_data",
          "data": {
            "text/plain": [
              "<Figure size 800x600 with 1 Axes>"
            ],
            "image/png": "[encoded data removed]"
          },
          "metadata": {}
        }
      ]
    }
  ]
}